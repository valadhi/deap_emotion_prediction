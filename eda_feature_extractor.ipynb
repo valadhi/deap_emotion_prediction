{
 "cells": [
  {
   "cell_type": "code",
   "execution_count": 1,
   "metadata": {
    "collapsed": true
   },
   "outputs": [
    {
     "ename": "ModuleNotFoundError",
     "evalue": "No module named 'pyEDA'",
     "output_type": "error",
     "traceback": [
      "\u001B[1;31m---------------------------------------------------------------------------\u001B[0m",
      "\u001B[1;31mModuleNotFoundError\u001B[0m                       Traceback (most recent call last)",
      "Cell \u001B[1;32mIn [1], line 6\u001B[0m\n\u001B[0;32m      4\u001B[0m \u001B[38;5;28;01mimport\u001B[39;00m \u001B[38;5;21;01mheartpy\u001B[39;00m \u001B[38;5;28;01mas\u001B[39;00m \u001B[38;5;21;01mhp\u001B[39;00m\n\u001B[0;32m      5\u001B[0m \u001B[38;5;28;01mfrom\u001B[39;00m \u001B[38;5;21;01mhrvanalysis\u001B[39;00m \u001B[38;5;28;01mimport\u001B[39;00m \u001B[38;5;241m*\u001B[39m\n\u001B[1;32m----> 6\u001B[0m \u001B[38;5;28;01mfrom\u001B[39;00m \u001B[38;5;21;01mpyEDA\u001B[39;00m\u001B[38;5;21;01m.\u001B[39;00m\u001B[38;5;21;01mmain\u001B[39;00m \u001B[38;5;28;01mimport\u001B[39;00m \u001B[38;5;241m*\u001B[39m\n\u001B[0;32m      8\u001B[0m \u001B[38;5;28;01mfrom\u001B[39;00m \u001B[38;5;21;01mcore\u001B[39;00m\u001B[38;5;21;01m.\u001B[39;00m\u001B[38;5;21;01mmain\u001B[39;00m \u001B[38;5;28;01mimport\u001B[39;00m \u001B[38;5;241m*\u001B[39m\n\u001B[0;32m     10\u001B[0m path \u001B[38;5;241m=\u001B[39m \u001B[38;5;124m\"\u001B[39m\u001B[38;5;124meda_features.pkl\u001B[39m\u001B[38;5;124m\"\u001B[39m\n",
      "\u001B[1;31mModuleNotFoundError\u001B[0m: No module named 'pyEDA'"
     ]
    }
   ],
   "source": [
    "import pandas as pd\n",
    "import matplotlib.pyplot as plt\n",
    "\n",
    "import heartpy as hp\n",
    "from hrvanalysis import *\n",
    "from pyEDA.main import *\n",
    "\n",
    "from core.main import *\n",
    "\n",
    "path = \"eda_features.pkl\"\n",
    "print(os.path.isfile(path))\n",
    "if os.path.isfile(path):\n",
    "    return pd.read_pickle(path)\n",
    "\n",
    "eda_channel = 36\n",
    "sample_rate = 128\n",
    "data = extract_data_by_video()\n",
    "video_info = pd.read_csv(\"metadata_csv/video_list.csv\")\n",
    "# plt.figure(figsize=(12,4))\n",
    "# plt.plot(x)\n",
    "# plt.show()"
   ]
  },
  {
   "cell_type": "code",
   "execution_count": 2,
   "outputs": [
    {
     "name": "stdout",
     "output_type": "stream",
     "text": [
      "0\n",
      "1\n"
     ]
    },
    {
     "name": "stderr",
     "output_type": "stream",
     "text": [
      "d:\\miniconda3\\lib\\site-packages\\numpy\\core\\fromnumeric.py:3372: RuntimeWarning: Mean of empty slice.\n",
      "  return _methods._mean(a, axis=axis, dtype=dtype,\n"
     ]
    },
    {
     "name": "stdout",
     "output_type": "stream",
     "text": [
      "2\n"
     ]
    },
    {
     "name": "stderr",
     "output_type": "stream",
     "text": [
      "d:\\miniconda3\\lib\\site-packages\\numpy\\core\\fromnumeric.py:3372: RuntimeWarning: Mean of empty slice.\n",
      "  return _methods._mean(a, axis=axis, dtype=dtype,\n"
     ]
    },
    {
     "name": "stdout",
     "output_type": "stream",
     "text": [
      "3\n",
      "4\n",
      "5\n",
      "6\n"
     ]
    },
    {
     "ename": "TypeError",
     "evalue": "can only concatenate str (not \"int\") to str",
     "output_type": "error",
     "traceback": [
      "\u001B[1;31m---------------------------------------------------------------------------\u001B[0m",
      "\u001B[1;31mTypeError\u001B[0m                                 Traceback (most recent call last)",
      "\u001B[1;32m<ipython-input-2-e57b317bc97e>\u001B[0m in \u001B[0;36m<module>\u001B[1;34m\u001B[0m\n\u001B[0;32m     19\u001B[0m         \u001B[1;32mtry\u001B[0m\u001B[1;33m:\u001B[0m\u001B[1;33m\u001B[0m\u001B[1;33m\u001B[0m\u001B[0m\n\u001B[1;32m---> 20\u001B[1;33m             \u001B[0mphasicdata\u001B[0m \u001B[1;33m=\u001B[0m \u001B[0mledapy\u001B[0m\u001B[1;33m.\u001B[0m\u001B[0mrunner\u001B[0m\u001B[1;33m.\u001B[0m\u001B[0mgetResult\u001B[0m\u001B[1;33m(\u001B[0m\u001B[0mx\u001B[0m\u001B[1;33m,\u001B[0m \u001B[1;34m'phasicdata'\u001B[0m\u001B[1;33m,\u001B[0m \u001B[0msample_rate\u001B[0m\u001B[1;33m,\u001B[0m \u001B[0mdownsample\u001B[0m\u001B[1;33m=\u001B[0m\u001B[1;36m4\u001B[0m\u001B[1;33m,\u001B[0m \u001B[0moptimisation\u001B[0m\u001B[1;33m=\u001B[0m\u001B[1;36m2\u001B[0m\u001B[1;33m)\u001B[0m\u001B[1;33m\u001B[0m\u001B[1;33m\u001B[0m\u001B[0m\n\u001B[0m\u001B[0;32m     21\u001B[0m         \u001B[1;32mexcept\u001B[0m\u001B[1;33m:\u001B[0m\u001B[1;33m\u001B[0m\u001B[1;33m\u001B[0m\u001B[0m\n",
      "\u001B[1;32md:\\miniconda3\\lib\\site-packages\\ledapy\\runner.py\u001B[0m in \u001B[0;36mgetResult\u001B[1;34m(raw_vector, result_type, sampling_rate, downsample, optimisation, pipeout)\u001B[0m\n\u001B[0;32m     40\u001B[0m     \u001B[0mimport_data\u001B[0m\u001B[1;33m(\u001B[0m\u001B[0mraw_vector\u001B[0m\u001B[1;33m,\u001B[0m \u001B[0msampling_rate\u001B[0m\u001B[1;33m,\u001B[0m \u001B[0mdownsample\u001B[0m\u001B[1;33m)\u001B[0m\u001B[1;33m\u001B[0m\u001B[1;33m\u001B[0m\u001B[0m\n\u001B[1;32m---> 41\u001B[1;33m     \u001B[0mdeconvolution\u001B[0m\u001B[1;33m.\u001B[0m\u001B[0msdeco\u001B[0m\u001B[1;33m(\u001B[0m\u001B[0moptimisation\u001B[0m\u001B[1;33m)\u001B[0m\u001B[1;33m\u001B[0m\u001B[1;33m\u001B[0m\u001B[0m\n\u001B[0m\u001B[0;32m     42\u001B[0m     \u001B[1;32mif\u001B[0m \u001B[0mresult_type\u001B[0m\u001B[1;33m.\u001B[0m\u001B[0mlower\u001B[0m\u001B[1;33m(\u001B[0m\u001B[1;33m)\u001B[0m \u001B[1;33m==\u001B[0m \u001B[1;34m'phasicdata'\u001B[0m\u001B[1;33m:\u001B[0m\u001B[1;33m\u001B[0m\u001B[1;33m\u001B[0m\u001B[0m\n",
      "\u001B[1;32md:\\miniconda3\\lib\\site-packages\\ledapy\\deconvolution.py\u001B[0m in \u001B[0;36msdeco\u001B[1;34m(nr_iv)\u001B[0m\n\u001B[0;32m     54\u001B[0m     \u001B[1;33m[\u001B[0m\u001B[0merr\u001B[0m\u001B[1;33m,\u001B[0m \u001B[0mx\u001B[0m\u001B[1;33m]\u001B[0m \u001B[1;33m=\u001B[0m \u001B[0msdeconv_analysis\u001B[0m\u001B[1;33m(\u001B[0m\u001B[0mnpa\u001B[0m\u001B[1;33m(\u001B[0m\u001B[0mleda2\u001B[0m\u001B[1;33m.\u001B[0m\u001B[0manalysis0\u001B[0m\u001B[1;33m.\u001B[0m\u001B[0mtau\u001B[0m\u001B[1;33m)\u001B[0m\u001B[1;33m)\u001B[0m  \u001B[1;31m# set dist0\u001B[0m\u001B[1;33m\u001B[0m\u001B[1;33m\u001B[0m\u001B[0m\n\u001B[1;32m---> 55\u001B[1;33m     \u001B[0moptimized_tau\u001B[0m \u001B[1;33m=\u001B[0m \u001B[0mdeconv_optimize\u001B[0m\u001B[1;33m(\u001B[0m\u001B[0mx\u001B[0m\u001B[1;33m,\u001B[0m \u001B[0mnr_iv\u001B[0m\u001B[1;33m)\u001B[0m\u001B[1;33m\u001B[0m\u001B[1;33m\u001B[0m\u001B[0m\n\u001B[0m\u001B[0;32m     56\u001B[0m     \u001B[1;32mif\u001B[0m \u001B[0moptimized_tau\u001B[0m \u001B[1;32mis\u001B[0m \u001B[1;32mnot\u001B[0m \u001B[1;32mNone\u001B[0m\u001B[1;33m:\u001B[0m\u001B[1;33m\u001B[0m\u001B[1;33m\u001B[0m\u001B[0m\n",
      "\u001B[1;32md:\\miniconda3\\lib\\site-packages\\ledapy\\deconvolution.py\u001B[0m in \u001B[0;36mdeconv_optimize\u001B[1;34m(x0, nr_iv)\u001B[0m\n\u001B[0;32m    198\u001B[0m     \u001B[1;32mfor\u001B[0m \u001B[0mi\u001B[0m \u001B[1;32min\u001B[0m \u001B[0mrange\u001B[0m\u001B[1;33m(\u001B[0m\u001B[0mnp\u001B[0m\u001B[1;33m.\u001B[0m\u001B[0mminimum\u001B[0m\u001B[1;33m(\u001B[0m\u001B[0mnr_iv\u001B[0m\u001B[1;33m,\u001B[0m \u001B[0mlen\u001B[0m\u001B[1;33m(\u001B[0m\u001B[0mxList\u001B[0m\u001B[1;33m)\u001B[0m\u001B[1;33m)\u001B[0m\u001B[1;33m)\u001B[0m\u001B[1;33m:\u001B[0m\u001B[1;33m\u001B[0m\u001B[1;33m\u001B[0m\u001B[0m\n\u001B[1;32m--> 199\u001B[1;33m         \u001B[1;33m(\u001B[0m\u001B[0mx\u001B[0m\u001B[1;33m,\u001B[0m \u001B[0merror\u001B[0m\u001B[1;33m)\u001B[0m \u001B[1;33m=\u001B[0m \u001B[0manalyse\u001B[0m\u001B[1;33m.\u001B[0m\u001B[0mcgd\u001B[0m\u001B[1;33m(\u001B[0m\u001B[0mxList\u001B[0m\u001B[1;33m[\u001B[0m\u001B[0mi\u001B[0m\u001B[1;33m]\u001B[0m\u001B[1;33m,\u001B[0m \u001B[0msdeconv_analysis\u001B[0m\u001B[1;33m,\u001B[0m \u001B[1;33m[\u001B[0m\u001B[1;36m.3\u001B[0m\u001B[1;33m,\u001B[0m \u001B[1;36m2\u001B[0m\u001B[1;33m]\u001B[0m\u001B[1;33m,\u001B[0m \u001B[1;36m.01\u001B[0m\u001B[1;33m,\u001B[0m \u001B[1;36m20\u001B[0m\u001B[1;33m,\u001B[0m \u001B[1;36m.05\u001B[0m\u001B[1;33m)\u001B[0m\u001B[1;33m\u001B[0m\u001B[1;33m\u001B[0m\u001B[0m\n\u001B[0m\u001B[0;32m    200\u001B[0m         \u001B[0mx_opt\u001B[0m\u001B[1;33m.\u001B[0m\u001B[0mappend\u001B[0m\u001B[1;33m(\u001B[0m\u001B[0mx\u001B[0m\u001B[1;33m)\u001B[0m\u001B[1;33m\u001B[0m\u001B[1;33m\u001B[0m\u001B[0m\n",
      "\u001B[1;32md:\\miniconda3\\lib\\site-packages\\ledapy\\analyse.py\u001B[0m in \u001B[0;36mcgd\u001B[1;34m(start_val, error_fcn, h, crit_error, crit_iter, crit_h)\u001B[0m\n\u001B[0;32m     41\u001B[0m             \u001B[1;31m# LINESEARCH\u001B[0m\u001B[1;33m\u001B[0m\u001B[1;33m\u001B[0m\u001B[1;33m\u001B[0m\u001B[0m\n\u001B[1;32m---> 42\u001B[1;33m             \u001B[1;33m[\u001B[0m\u001B[0mx\u001B[0m\u001B[1;33m,\u001B[0m \u001B[0mnewerror\u001B[0m\u001B[1;33m,\u001B[0m \u001B[0mstep\u001B[0m\u001B[1;33m]\u001B[0m \u001B[1;33m=\u001B[0m \u001B[0mcgd_linesearch\u001B[0m\u001B[1;33m(\u001B[0m\u001B[0mx\u001B[0m\u001B[1;33m,\u001B[0m \u001B[0molderror\u001B[0m\u001B[1;33m,\u001B[0m \u001B[0mdirection\u001B[0m\u001B[1;33m,\u001B[0m \u001B[0merror_fcn\u001B[0m\u001B[1;33m,\u001B[0m \u001B[0mh\u001B[0m\u001B[1;33m)\u001B[0m\u001B[1;33m\u001B[0m\u001B[1;33m\u001B[0m\u001B[0m\n\u001B[0m\u001B[0;32m     43\u001B[0m             \u001B[0merror_diff\u001B[0m \u001B[1;33m=\u001B[0m \u001B[0mnewerror\u001B[0m \u001B[1;33m-\u001B[0m \u001B[0molderror\u001B[0m\u001B[1;33m\u001B[0m\u001B[1;33m\u001B[0m\u001B[0m\n",
      "\u001B[1;32md:\\miniconda3\\lib\\site-packages\\ledapy\\analyse.py\u001B[0m in \u001B[0;36mcgd_linesearch\u001B[1;34m(x, error0, direction, error_fcn, h)\u001B[0m\n\u001B[0;32m    124\u001B[0m         \u001B[0mxc\u001B[0m \u001B[1;33m=\u001B[0m \u001B[0mx\u001B[0m \u001B[1;33m+\u001B[0m \u001B[1;33m(\u001B[0m\u001B[0mdirection_n\u001B[0m \u001B[1;33m*\u001B[0m \u001B[0mstepsize\u001B[0m\u001B[1;33m)\u001B[0m \u001B[1;33m*\u001B[0m \u001B[0mfactor\u001B[0m\u001B[1;33m[\u001B[0m\u001B[0miStep\u001B[0m\u001B[1;33m]\u001B[0m\u001B[1;33m\u001B[0m\u001B[1;33m\u001B[0m\u001B[0m\n\u001B[1;32m--> 125\u001B[1;33m         \u001B[1;33m(\u001B[0m\u001B[0mcatVal\u001B[0m\u001B[1;33m,\u001B[0m \u001B[0mxc\u001B[0m\u001B[1;33m)\u001B[0m \u001B[1;33m=\u001B[0m \u001B[0merror_fcn\u001B[0m\u001B[1;33m(\u001B[0m\u001B[0mxc\u001B[0m\u001B[1;33m)\u001B[0m  \u001B[1;31m# xc may be changed due to limits\u001B[0m\u001B[1;33m\u001B[0m\u001B[1;33m\u001B[0m\u001B[0m\n\u001B[0m\u001B[0;32m    126\u001B[0m         \u001B[0merror_list\u001B[0m \u001B[1;33m=\u001B[0m \u001B[0mnp\u001B[0m\u001B[1;33m.\u001B[0m\u001B[0mhstack\u001B[0m\u001B[1;33m(\u001B[0m\u001B[1;33m(\u001B[0m\u001B[0merror_list\u001B[0m\u001B[1;33m,\u001B[0m \u001B[0mcatVal\u001B[0m\u001B[1;33m)\u001B[0m\u001B[1;33m)\u001B[0m\u001B[1;33m\u001B[0m\u001B[1;33m\u001B[0m\u001B[0m\n",
      "\u001B[1;32md:\\miniconda3\\lib\\site-packages\\ledapy\\deconvolution.py\u001B[0m in \u001B[0;36msdeconv_analysis\u001B[1;34m(x, estim_tonic)\u001B[0m\n\u001B[0;32m    126\u001B[0m     \"\"\"\n\u001B[1;32m--> 127\u001B[1;33m     \u001B[1;33m(\u001B[0m\u001B[0mimpMin\u001B[0m\u001B[1;33m,\u001B[0m \u001B[0mimpMax\u001B[0m\u001B[1;33m)\u001B[0m \u001B[1;33m=\u001B[0m \u001B[0manalyse\u001B[0m\u001B[1;33m.\u001B[0m\u001B[0msegment_driver\u001B[0m\u001B[1;33m(\u001B[0m\u001B[0mdriverSC_smooth\u001B[0m\u001B[1;33m,\u001B[0m \u001B[0mnp\u001B[0m\u001B[1;33m.\u001B[0m\u001B[0mzeros\u001B[0m\u001B[1;33m(\u001B[0m\u001B[0mlen\u001B[0m\u001B[1;33m(\u001B[0m\u001B[0mdriverSC_smooth\u001B[0m\u001B[1;33m)\u001B[0m\u001B[1;33m)\u001B[0m\u001B[1;33m,\u001B[0m \u001B[1;36m1\u001B[0m\u001B[1;33m,\u001B[0m \u001B[0msigc\u001B[0m\u001B[1;33m,\u001B[0m \u001B[0mround\u001B[0m\u001B[1;33m(\u001B[0m\u001B[0msr\u001B[0m \u001B[1;33m*\u001B[0m \u001B[0mleda2\u001B[0m\u001B[1;33m.\u001B[0m\u001B[0msettings\u001B[0m\u001B[1;33m.\u001B[0m\u001B[0msegmWidth\u001B[0m\u001B[1;33m)\u001B[0m\u001B[1;33m)\u001B[0m\u001B[1;33m\u001B[0m\u001B[1;33m\u001B[0m\u001B[0m\n\u001B[0m\u001B[0;32m    128\u001B[0m     \u001B[1;32mif\u001B[0m \u001B[0mestim_tonic\u001B[0m\u001B[1;33m:\u001B[0m\u001B[1;33m\u001B[0m\u001B[1;33m\u001B[0m\u001B[0m\n",
      "\u001B[1;31mTypeError\u001B[0m: cannot unpack non-iterable NoneType object",
      "\nDuring handling of the above exception, another exception occurred:\n",
      "\u001B[1;31mTypeError\u001B[0m                                 Traceback (most recent call last)",
      "\u001B[1;32m<ipython-input-2-e57b317bc97e>\u001B[0m in \u001B[0;36m<module>\u001B[1;34m\u001B[0m\n\u001B[0;32m     20\u001B[0m             \u001B[0mphasicdata\u001B[0m \u001B[1;33m=\u001B[0m \u001B[0mledapy\u001B[0m\u001B[1;33m.\u001B[0m\u001B[0mrunner\u001B[0m\u001B[1;33m.\u001B[0m\u001B[0mgetResult\u001B[0m\u001B[1;33m(\u001B[0m\u001B[0mx\u001B[0m\u001B[1;33m,\u001B[0m \u001B[1;34m'phasicdata'\u001B[0m\u001B[1;33m,\u001B[0m \u001B[0msample_rate\u001B[0m\u001B[1;33m,\u001B[0m \u001B[0mdownsample\u001B[0m\u001B[1;33m=\u001B[0m\u001B[1;36m4\u001B[0m\u001B[1;33m,\u001B[0m \u001B[0moptimisation\u001B[0m\u001B[1;33m=\u001B[0m\u001B[1;36m2\u001B[0m\u001B[1;33m)\u001B[0m\u001B[1;33m\u001B[0m\u001B[1;33m\u001B[0m\u001B[0m\n\u001B[0;32m     21\u001B[0m         \u001B[1;32mexcept\u001B[0m\u001B[1;33m:\u001B[0m\u001B[1;33m\u001B[0m\u001B[1;33m\u001B[0m\u001B[0m\n\u001B[1;32m---> 22\u001B[1;33m             \u001B[0mprint\u001B[0m\u001B[1;33m(\u001B[0m\u001B[1;34m\"participant \"\u001B[0m\u001B[1;33m+\u001B[0m\u001B[0mparticipant\u001B[0m\u001B[1;33m+\u001B[0m\u001B[1;34m\" for video \"\u001B[0m\u001B[1;33m+\u001B[0m\u001B[0mvideo_id\u001B[0m\u001B[1;33m+\u001B[0m\u001B[1;34m\" returns error\"\u001B[0m\u001B[1;33m)\u001B[0m\u001B[1;33m\u001B[0m\u001B[1;33m\u001B[0m\u001B[0m\n\u001B[0m\u001B[0;32m     23\u001B[0m             \u001B[0meda_data\u001B[0m\u001B[1;33m.\u001B[0m\u001B[0mappend\u001B[0m\u001B[1;33m(\u001B[0m\u001B[0mnp\u001B[0m\u001B[1;33m.\u001B[0m\u001B[0marray\u001B[0m\u001B[1;33m(\u001B[0m\u001B[1;33m[\u001B[0m\u001B[1;36m0\u001B[0m \u001B[1;32mfor\u001B[0m \u001B[0mf\u001B[0m \u001B[1;32min\u001B[0m \u001B[0mrange\u001B[0m\u001B[1;33m(\u001B[0m\u001B[0mlen\u001B[0m\u001B[1;33m(\u001B[0m\u001B[0mfeature_names\u001B[0m\u001B[1;33m)\u001B[0m \u001B[1;33m+\u001B[0m \u001B[0mlen\u001B[0m\u001B[1;33m(\u001B[0m\u001B[0mpeak_feature_names\u001B[0m\u001B[1;33m)\u001B[0m \u001B[1;33m+\u001B[0m \u001B[1;36m3\u001B[0m\u001B[1;33m)\u001B[0m\u001B[1;33m]\u001B[0m\u001B[1;33m)\u001B[0m\u001B[1;33m)\u001B[0m\u001B[1;33m\u001B[0m\u001B[1;33m\u001B[0m\u001B[0m\n\u001B[0;32m     24\u001B[0m             \u001B[1;32mcontinue\u001B[0m\u001B[1;33m\u001B[0m\u001B[1;33m\u001B[0m\u001B[0m\n",
      "\u001B[1;31mTypeError\u001B[0m: can only concatenate str (not \"int\") to str"
     ]
    }
   ],
   "source": [
    "# EDA convex optimization novel feature extraction method\n",
    "import ledapy\n",
    "\n",
    "feature_names = [\"conductance_error\",\"conductance_min\",\"conductance_max\"]\n",
    "peak_feature_names = [\"onset\",\"peaktime\"]\n",
    "results_frame = {c: [] for c in ['video_name', 'emotion', 'test_score'] + feature_names + peak_feature_names + [\"mean_gsr\"]}\n",
    "\n",
    "eda_data = []\n",
    "for video_id in range(40):\n",
    "    print(video_id)\n",
    "    # process EDA data\n",
    "    section = data.loc[(data['video_id'] == video_id) & (data['channel_id'] == eda_channel)]\n",
    "    X_input = np.array(section['channel_data'].tolist())\n",
    "\n",
    "    for participant, x in enumerate(X_input):\n",
    "        m, wd, eda_clean = process_statistical(x, use_scipy=False, sample_rate=128,\n",
    "                                           new_sample_rate=20, segment_width=10,segment_overlap=0)\n",
    "        # eda_data.append(m['mean_gsr'])\n",
    "        try:\n",
    "            phasicdata = ledapy.runner.getResult(x, 'phasicdata', sample_rate, downsample=4, optimisation=2)\n",
    "        except Exception as e:\n",
    "            print(\"participant \"+participant+\" for video \"+video_id+\" returns error\")\n",
    "            eda_data.append(np.array([0 for f in range(len(feature_names) + len(peak_feature_names) + 3)]))\n",
    "            continue\n",
    "        leda_data = ledapy.leda2.data\n",
    "        leda_data2 = ledapy.leda2.trough2peakAnalysis\n",
    "        trough_peak_data = [np.mean(getattr(leda_data2, tfeat)) for tfeat in peak_feature_names]\n",
    "        core_data = [getattr(leda_data, feat_name) for feat_name in feature_names]\n",
    "\n",
    "        new_row = np.array([participant, video_id] + core_data + trough_peak_data + [np.mean(m['mean_gsr'])])\n",
    "        eda_data.append(new_row)\n",
    "\n",
    "    row = video_info[video_info['Experiment_id'] == (video_id+1)].iloc[0]\n",
    "    video_name = row['Artist'] + \" - \" + row['Title']\n",
    "\n",
    "data_with_features_frame = pd.DataFrame(eda_data, columns=['participant', 'video']+\n",
    "                                                          feature_names + peak_feature_names + [\"mean_gsr\"])\n",
    "data_with_features_frame.to_pickle(path)"
   ],
   "metadata": {
    "collapsed": false,
    "pycharm": {
     "name": "#%%\n"
    }
   }
  },
  {
   "cell_type": "code",
   "execution_count": null,
   "outputs": [],
   "source": [
    "# separate scoring from feature extraction\n",
    "row = [video_name]\n",
    "for emotion in ['Valence', 'Arousal', 'Dominance', 'Liking']:\n",
    "    target_emotion = np.array(section[emotion].tolist())\n",
    "    results_frame['video_name'].append(video_name)\n",
    "    results_frame['emotion'].append(emotion)\n",
    "\n",
    "    test_score, importance = run_test(eda_data, target_emotion, '')\n",
    "    results_frame['test_score'].append(test_score)\n",
    "    for i, f in enumerate(feature_names):\n",
    "        results_frame[f].append(importance[i])\n",
    "print(video_name)\n",
    "\n",
    "results_frame = pd.DataFrame(results_frame)\n",
    "print(results_frame)\n",
    "\n"
   ],
   "metadata": {
    "collapsed": false,
    "pycharm": {
     "name": "#%%\n"
    }
   }
  }
 ],
 "metadata": {
  "kernelspec": {
   "display_name": "Python 3",
   "language": "python",
   "name": "python3"
  },
  "language_info": {
   "codemirror_mode": {
    "name": "ipython",
    "version": 2
   },
   "file_extension": ".py",
   "mimetype": "text/x-python",
   "name": "python",
   "nbconvert_exporter": "python",
   "pygments_lexer": "ipython2",
   "version": "2.7.6"
  }
 },
 "nbformat": 4,
 "nbformat_minor": 0
}